{
 "cells": [
  {
   "cell_type": "code",
   "execution_count": null,
   "id": "bd4f812e",
   "metadata": {},
   "outputs": [],
   "source": [
    "import torch\n",
    "from torch.utils.data import DataLoader\n",
    "from tqdm.auto import tqdm\n",
    "import numpy as np\n",
    "from transformers import AutoProcessor\n",
    "from pathlib import Path\n",
    "from typing import Optional, Dict, Any, Tuple\n",
    "\n",
    "from src.dataset import (\n",
    "    CoSiRValidationDataset,\n",
    ")\n",
    "from src.model import CoSiRModel\n",
    "from src.eval import EvaluationManager, EvaluationConfig, MetricResult\n",
    "from src.utils import (\n",
    "    FeatureManager,\n",
    "    ExperimentManager,\n",
    "    TrainableEmbeddingManager,\n",
    "    get_representatives,\n",
    "    get_umap,\n",
    ")"
   ]
  },
  {
   "cell_type": "code",
   "execution_count": null,
   "id": "d4445330",
   "metadata": {},
   "outputs": [],
   "source": [
    "# 1. Basic Setup\n",
    "from src.hook.eval_cosir import CoSiREvaluator\n",
    "from src.utils import ExperimentManager, get_representatives, get_umap"
   ]
  },
  {
   "cell_type": "code",
   "execution_count": null,
   "id": "974b368c",
   "metadata": {},
   "outputs": [],
   "source": [
    "# 2. Load Experiment\n",
    "experiment_path = (\n",
    "    \"/project/CoSiR/res/CoSiR_Experiment/coco/20250917_090002_CoSiR_Experiment\"\n",
    ")\n",
    "evaluator = CoSiREvaluator(experiment_path)"
   ]
  },
  {
   "cell_type": "code",
   "execution_count": null,
   "id": "f6050499",
   "metadata": {},
   "outputs": [],
   "source": [
    "# 3. Load Components (handles config issues automatically)\n",
    "feature_manager = evaluator.load_feature_manager()\n",
    "embedding_manager = evaluator.load_embedding_manager()\n",
    "sample_ids, all_embeddings = embedding_manager.get_all_embeddings()"
   ]
  },
  {
   "cell_type": "code",
   "execution_count": null,
   "id": "3f2b150a",
   "metadata": {},
   "outputs": [],
   "source": [
    "\n",
    "# 4. K-means Representatives (requires 2D embeddings)\n",
    "num_reps = 20\n",
    "representatives = get_representatives(all_embeddings, num_reps)\n",
    "similarities = torch.mm(representatives, all_embeddings.T)\n",
    "\n",
    "# 5. Arbitrary Embedding Retrieval\n",
    "np.random.seed(42)\n",
    "query_indices = np.random.choice(len(all_embeddings), size=10, replace=False)\n",
    "query_embeddings = all_embeddings[query_indices]\n",
    "retrieval_similarities = torch.mm(query_embeddings, all_embeddings.T)\n",
    "top_k_similarities, top_k_indices = torch.topk(retrieval_similarities, k=20, dim=1)\n",
    "\n",
    "# 6. UMAP Visualization\n",
    "dummy_labels = np.arange(len(all_embeddings)) % 10\n",
    "fig = get_umap(\n",
    "    umap_features_np=all_embeddings.cpu().numpy(),\n",
    "    umap_labels=dummy_labels,\n",
    "    epoch=0,\n",
    "    samples_to_track=[],\n",
    "    z_threshold=3,\n",
    "    no_outlier=True\n",
    ")\n",
    "\n",
    "Save Results\n",
    "\n",
    "# 7. Create Experiment Context for Saving\n",
    "exp_manager = ExperimentManager()\n",
    "experiment_context = exp_manager.create_experiment(\n",
    "    \"my_analysis\",\n",
    "    description=\"CoSiR Analysis\"\n",
    ")\n",
    "\n",
    "# 8. Save Results with Timestamps\n",
    "experiment_context.save_artifact(\"representatives\", representatives, \"numpy\", folder=\"results\")\n",
    "experiment_context.save_artifact(\"retrieval_results\", results_dict, \"pickle\", folder=\"results\")\n",
    "experiment_context.save_artifact(\"umap_plot\", fig, \"figure\", folder=\"plots\")"
   ]
  }
 ],
 "metadata": {
  "kernelspec": {
   "display_name": "CoSiR",
   "language": "python",
   "name": "python3"
  },
  "language_info": {
   "codemirror_mode": {
    "name": "ipython",
    "version": 3
   },
   "file_extension": ".py",
   "mimetype": "text/x-python",
   "name": "python",
   "nbconvert_exporter": "python",
   "pygments_lexer": "ipython3",
   "version": "3.10.18"
  }
 },
 "nbformat": 4,
 "nbformat_minor": 5
}
