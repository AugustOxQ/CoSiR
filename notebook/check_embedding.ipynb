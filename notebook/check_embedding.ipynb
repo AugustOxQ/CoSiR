{
 "cells": [
  {
   "cell_type": "code",
   "execution_count": 6,
   "id": "2d18d8fe",
   "metadata": {},
   "outputs": [],
   "source": [
    "import torch"
   ]
  },
  {
   "cell_type": "code",
   "execution_count": 7,
   "id": "9bd6b2dc",
   "metadata": {},
   "outputs": [],
   "source": [
    "path = \"//project/CoSiR/res/CoSiR_Experiment/coco/20251013_173218_CoSiR_Experiment/training_embeddings/embeddings_chunk_1.pt\"\n",
    "# path = \"/data/SSD2/pre_extract/coco/features/chunk_0.pt\"\n",
    "data = torch.load(path)"
   ]
  }
 ],
 "metadata": {
  "kernelspec": {
   "display_name": "CoSiR",
   "language": "python",
   "name": "python3"
  },
  "language_info": {
   "codemirror_mode": {
    "name": "ipython",
    "version": 3
   },
   "file_extension": ".py",
   "mimetype": "text/x-python",
   "name": "python",
   "nbconvert_exporter": "python",
   "pygments_lexer": "ipython3",
   "version": "3.10.18"
  }
 },
 "nbformat": 4,
 "nbformat_minor": 5
}
